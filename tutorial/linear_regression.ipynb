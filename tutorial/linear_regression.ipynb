{
 "cells": [
  {
   "cell_type": "code",
   "execution_count": 1,
   "metadata": {},
   "outputs": [],
   "source": [
    "import torch\n",
    "import torch.nn as nn\n",
    "\n",
    "import numpy as np\n",
    "import matplotlib.pyplot as plt"
   ]
  },
  {
   "cell_type": "markdown",
   "metadata": {},
   "source": [
    "# Pytorch: An automatic differentiation tool\n",
    "\n",
    "`Pytorch`를 활용하면 복잡한 함수의 미분을 손쉽게 + 효율적으로 계산할 수 있습니다!\n",
    "`Pytorch`를 활용해서 복잡한 심층 신경망을 훈련할 때, 오차함수에 대한 파라미터의 편미분치를 계산을 손쉽게 수행할수 있습니다!"
   ]
  },
  {
   "cell_type": "markdown",
   "metadata": {},
   "source": [
    "## Pytorch 첫만남\n",
    "\n",
    "우리에게 아래와 같은 간단한 선형식이 주어져있다고 생각해볼까요?\n",
    "$$ y = wx $$ \n",
    "\n",
    "그러면 $\\frac{\\partial y}{\\partial w}$ 을 어떻게 계산 할 수 있을까요?\n",
    "일단 직접 미분을 해보면$\\frac{\\partial y}{\\partial w} = x$ 이 되니, 간단한\n",
    "예제에서 `pytorch`로 해당 값을 계산하는 방법을 알아보도록 합시다!"
   ]
  },
  {
   "cell_type": "code",
   "execution_count": 2,
   "metadata": {},
   "outputs": [],
   "source": [
    "# 랭크1 / 사이즈1 이며 값은 1*2 인 pytorch tensor를 하나 만듭니다.\n",
    "x = torch.ones(1) * 2\n",
    "\n",
    "# 랭크1 / 사이즈1 이며 값은 1 인 pytorch tensor를 하나 만듭니다.\n",
    "w = torch.ones(1, requires_grad=True)\n",
    "\n",
    "y = w * x"
   ]
  },
  {
   "cell_type": "code",
   "execution_count": 3,
   "metadata": {},
   "outputs": [
    {
     "data": {
      "text/plain": [
       "tensor([2.], grad_fn=<MulBackward0>)"
      ]
     },
     "execution_count": 3,
     "metadata": {},
     "output_type": "execute_result"
    }
   ],
   "source": [
    "y"
   ]
  },
  {
   "cell_type": "markdown",
   "metadata": {},
   "source": [
    "## 편미분 계산하기!\n",
    "\n",
    "pytorch에서는 미분값을 계산하고 싶은 텐서에 `.backward()` 를 붙여주는 것으로, 해당 텐서 계산에 연결 되어있는 텐서 중 `gradient`를 계산해야하는 텐서(들)에 대한 편미분치들을 계산할수 있습니다. `requires_grad=True`를 통해서 어떤 텐서에 미분값을 계산할지 할당해줄 수 있습니다."
   ]
  },
  {
   "cell_type": "code",
   "execution_count": 4,
   "metadata": {},
   "outputs": [],
   "source": [
    "y.backward()"
   ]
  },
  {
   "cell_type": "markdown",
   "metadata": {},
   "source": [
    "## 편미분값 확인하기!\n",
    "\n",
    "`텐서.grad` 를 활용해서 특정 텐서의 gradient 값을 확인해볼 수 있습니다. 한번 `w.grad`를 활용해서 `y` 에 대한 `w`의 편미분값을 확인해볼까요?"
   ]
  },
  {
   "cell_type": "code",
   "execution_count": 5,
   "metadata": {},
   "outputs": [
    {
     "data": {
      "text/plain": [
       "tensor([2.])"
      ]
     },
     "execution_count": 5,
     "metadata": {},
     "output_type": "execute_result"
    }
   ],
   "source": [
    "w.grad"
   ]
  },
  {
   "cell_type": "markdown",
   "metadata": {},
   "source": [
    "## 그러면 requires_grad = False 인 경우는?"
   ]
  },
  {
   "cell_type": "code",
   "execution_count": 6,
   "metadata": {},
   "outputs": [],
   "source": [
    "x.grad"
   ]
  },
  {
   "cell_type": "markdown",
   "metadata": {},
   "source": [
    "## `torch.nn`, Neural Network 패키지\n",
    "\n",
    "`pytorch`에는 이미 다양한 neural network들의 모듈들을 구현해 놓았습니다. 그 중에 가장 간단하지만 정말 자주 쓰이는 `nn.Linear` 에 대해 알아보면서 `pytorch`의 `nn.Module`에 대해서 알아보도록 합시다."
   ]
  },
  {
   "cell_type": "markdown",
   "metadata": {},
   "source": [
    "## `nn.Linear` 돌아보기\n",
    "\n",
    "`nn.Linear` 은 앞서 배운 선형회귀 및 다층 퍼셉트론 모델의 한 층에 해당하는 파라미터 $w$, $b$ 를 가지고 있습니다. 예시로 입력의 dimension 이 10이고 출력의 dimension 이 1인 `nn.Linear` 모듈을 만들어 봅시다!"
   ]
  },
  {
   "cell_type": "code",
   "execution_count": 7,
   "metadata": {},
   "outputs": [],
   "source": [
    "lin = nn.Linear(in_features=10, out_features=1)"
   ]
  },
  {
   "cell_type": "code",
   "execution_count": 8,
   "metadata": {},
   "outputs": [
    {
     "name": "stdout",
     "output_type": "stream",
     "text": [
      "Parameter containing:\n",
      "tensor([[ 0.1698, -0.1924, -0.2172, -0.1374, -0.1052, -0.2165,  0.0877,  0.0329,\n",
      "          0.1333,  0.2974]], requires_grad=True)\n",
      "torch.Size([1, 10])\n",
      "\n",
      "\n",
      "Parameter containing:\n",
      "tensor([-0.0646], requires_grad=True)\n",
      "torch.Size([1])\n",
      "\n",
      "\n"
     ]
    }
   ],
   "source": [
    "for p in lin.parameters():\n",
    "    print(p)\n",
    "    print(p.shape)\n",
    "    print('\\n')"
   ]
  },
  {
   "cell_type": "markdown",
   "metadata": {},
   "source": [
    "## `Linear` 모듈로 $y = Wx+b$ 계산하기\n",
    "\n",
    "선형회귀식도 그랬지만, 다층 퍼셉트론 모델도 하나의 레이어는 아래의 수식을 계산했던 것을 기억하시죠?\n",
    "$$y = Wx+b$$\n",
    "\n",
    "`nn.Linear`를 활용해서 저 수식을 계산해볼까요?\n",
    "\n",
    "검산을 쉽게 하기 위해서 W의 값은 모두 1.0 으로 b 는 5.0 으로 만들어두겠습니다."
   ]
  },
  {
   "cell_type": "code",
   "execution_count": 9,
   "metadata": {},
   "outputs": [
    {
     "name": "stdout",
     "output_type": "stream",
     "text": [
      "Parameter containing:\n",
      "tensor([[1., 1., 1., 1., 1., 1., 1., 1., 1., 1.]], requires_grad=True)\n",
      "torch.Size([1, 10])\n",
      "\n",
      "\n",
      "Parameter containing:\n",
      "tensor([5.], requires_grad=True)\n",
      "torch.Size([1])\n",
      "\n",
      "\n"
     ]
    }
   ],
   "source": [
    "lin.weight.data = torch.ones_like(lin.weight.data)\n",
    "lin.bias.data = torch.ones_like(lin.bias.data) * 5.0\n",
    "\n",
    "for p in lin.parameters():\n",
    "    print(p)\n",
    "    print(p.shape)\n",
    "    print('\\n')"
   ]
  },
  {
   "cell_type": "code",
   "execution_count": 10,
   "metadata": {},
   "outputs": [],
   "source": [
    "x = torch.ones(3, 10) # rank2 tensor를 만듭니다. : mini batch size = 3\n",
    "y_hat = lin(x)"
   ]
  },
  {
   "cell_type": "code",
   "execution_count": 11,
   "metadata": {},
   "outputs": [
    {
     "name": "stdout",
     "output_type": "stream",
     "text": [
      "torch.Size([3, 1])\n",
      "tensor([[15.],\n",
      "        [15.],\n",
      "        [15.]], grad_fn=<AddmmBackward0>)\n"
     ]
    }
   ],
   "source": [
    "print(y_hat.shape)\n",
    "print(y_hat)"
   ]
  },
  {
   "cell_type": "markdown",
   "metadata": {},
   "source": [
    "## 지금 무슨일이 일어난거죠?\n",
    "\n",
    ">Q1. 왜 Rank 2 tensor 를 입력으로 사용하나요? <br>\n",
    ">A1. 파이토치의 `nn` 에 정의되어있는 클래스들은 입력의 가장 첫번째 디멘젼을 `배치 사이즈`로 해석합니다. \n",
    "\n",
    ">Q2. lin(x) 는 도대체 무엇인가요? <br>\n",
    ">A2. 파이썬에 익숙하신 분들은 `object()` 는 `object.__call__()`에 정의되어있는 함수를 실행시키신다는 것을 아실텐데요. 파이토치의 `nn.Module`은 `__call__()`을 오버라이드하는 함수인 `forward()`를 구현하는 것을 __권장__ 하고 있습니다. 일반적으로, `forward()`안에서 실제로 파라미터와 인풋을 가지고 특정 레이어의 연산과 정을 구현하게 됩니다.\n",
    "\n",
    "여러가지 이유가 있겠지만, 파이토치가 내부적으로 foward() 의 실행의 전/후로 사용자 친화적인 환경을 제공하기위해서 추가적인 작업들을 해줍니다. 이 부분은 다음 실습에서 다층 퍼셉트론 모델을 만들면서 조금 더 자세히 설명해볼게요!"
   ]
  },
  {
   "cell_type": "markdown",
   "metadata": {},
   "source": [
    "## Pytorch 로 간단히! 선형회귀 구현하기\n",
    "\n",
    "저번 실습에서 numpy 로 구현했던 Linear regression 모델을 다시 한번 파이토치로 구현해볼까요? <br>\n",
    "몇 줄이면 끝날 정도로 간단합니다 :)"
   ]
  },
  {
   "cell_type": "code",
   "execution_count": 12,
   "metadata": {},
   "outputs": [],
   "source": [
    "def generate_samples(n_samples: int, \n",
    "                     w: float = 1.0, \n",
    "                     b: float = 0.5,\n",
    "                     x_range=[-1.0,1.0]):\n",
    "    \n",
    "    xs = np.random.uniform(low=x_range[0], high=x_range[1], size=n_samples)\n",
    "    ys = w * xs + b\n",
    "    \n",
    "    xs = torch.tensor(xs).view(-1,1).float() # 파이토치 nn.Module 은 배치가 첫 디멘젼!\n",
    "    ys = torch.tensor(ys).view(-1,1).float()\n",
    "    return xs, ys"
   ]
  },
  {
   "cell_type": "code",
   "execution_count": 13,
   "metadata": {},
   "outputs": [],
   "source": [
    "w = 1.0\n",
    "b = 0.5\n",
    "xs, ys = generate_samples(30, w=w, b=b)"
   ]
  },
  {
   "cell_type": "code",
   "execution_count": 14,
   "metadata": {},
   "outputs": [
    {
     "name": "stdout",
     "output_type": "stream",
     "text": [
      "Parameter containing:\n",
      "tensor([[0.7481]], requires_grad=True)\n",
      "None\n",
      "Parameter containing:\n",
      "tensor([-0.4144], requires_grad=True)\n",
      "None\n"
     ]
    }
   ],
   "source": [
    "lin_model = nn.Linear(in_features=1, out_features=1) # lim_model 생성\n",
    "\n",
    "for p in lin_model.parameters():\n",
    "    print(p)\n",
    "    print(p.grad)"
   ]
  },
  {
   "cell_type": "code",
   "execution_count": 15,
   "metadata": {},
   "outputs": [],
   "source": [
    "ys_hat = lin_model(xs) # lin_model 로 예측하기"
   ]
  },
  {
   "cell_type": "markdown",
   "metadata": {},
   "source": [
    "## Loss 함수는? MSE!\n",
    "\n",
    "`pytorch`에서는 자주 쓰이는 loss 함수들에 대해서도 미리 구현을 해두었습니다.\n",
    "이번 실습에서는 __numpy로 선형회귀 모델 만들기__ 에서 사용됐던 MSE 를 오차함수로 사용해볼까요?"
   ]
  },
  {
   "cell_type": "code",
   "execution_count": 16,
   "metadata": {},
   "outputs": [],
   "source": [
    "criteria = nn.MSELoss()\n",
    "loss = criteria(ys_hat, ys)"
   ]
  },
  {
   "cell_type": "markdown",
   "metadata": {},
   "source": [
    "## 경사하강법을 활용해서 파라미터 업데이트하기!\n",
    "\n",
    "`pytorch`는 여러분들을 위해서 다양한 optimizer들을 구현해 두었습니다. 일단은 가장 간단한 stochastic gradient descent (SGD)를 활용해 볼까요? optimizer에 따라서 다양한 인자들을 활용하지만 기본적으로 `params` 와 `lr`을 지정해주면 나머지는 optimizer 마다 잘되는 것으로 알려진 인자들로 optimizer을 손쉽게 생성할수 있습니다."
   ]
  },
  {
   "cell_type": "code",
   "execution_count": 17,
   "metadata": {},
   "outputs": [],
   "source": [
    "opt = torch.optim.SGD(params=lin_model.parameters(), lr=0.01)"
   ]
  },
  {
   "cell_type": "markdown",
   "metadata": {},
   "source": [
    "## 잊지마세요! opt.zero_grad()\n",
    "\n",
    "`pytorch`로 편미분을 계산하기전에, 꼭 `opt.zero_grad()` 함수를 이용해서 편미분 계산이 필요한 텐서들의 편미분값을 초기화 해주는 것을 권장드립니다."
   ]
  },
  {
   "cell_type": "code",
   "execution_count": 18,
   "metadata": {},
   "outputs": [
    {
     "name": "stdout",
     "output_type": "stream",
     "text": [
      "Parameter containing:\n",
      "tensor([[0.7481]], requires_grad=True)\n",
      "None\n",
      "Parameter containing:\n",
      "tensor([-0.4144], requires_grad=True)\n",
      "None\n"
     ]
    }
   ],
   "source": [
    "opt.zero_grad()\n",
    "for p in lin_model.parameters():\n",
    "    print(p)\n",
    "    print(p.grad)"
   ]
  },
  {
   "cell_type": "code",
   "execution_count": 19,
   "metadata": {},
   "outputs": [],
   "source": [
    "loss.backward()"
   ]
  },
  {
   "cell_type": "code",
   "execution_count": 20,
   "metadata": {},
   "outputs": [
    {
     "name": "stdout",
     "output_type": "stream",
     "text": [
      "Parameter containing:\n",
      "tensor([[0.7529]], requires_grad=True)\n",
      "tensor([[-0.4785]])\n",
      "Parameter containing:\n",
      "tensor([-0.3953], requires_grad=True)\n",
      "tensor([-1.9083])\n"
     ]
    }
   ],
   "source": [
    "opt.step()\n",
    "for p in lin_model.parameters():\n",
    "    print(p)\n",
    "    print(p.grad)"
   ]
  },
  {
   "cell_type": "markdown",
   "metadata": {},
   "source": [
    "## 경사하강법을 활용해서 최적 파라미터를 찾아봅시다!"
   ]
  },
  {
   "cell_type": "code",
   "execution_count": 21,
   "metadata": {},
   "outputs": [],
   "source": [
    "def run_sgd(n_steps: int = 1000,\n",
    "            report_every: int = 100,\n",
    "            verbose=True):\n",
    "    \n",
    "    lin_model = nn.Linear(in_features=1, out_features=1)\n",
    "    opt = torch.optim.SGD(params=lin_model.parameters(), lr=0.01)\n",
    "    sgd_losses = []\n",
    "\n",
    "    for i in range(n_steps):\n",
    "        ys_hat = lin_model(xs)\n",
    "        loss = criteria(ys_hat, ys)\n",
    "        opt.zero_grad()\n",
    "        loss.backward()\n",
    "        opt.step()\n",
    "\n",
    "        if i % report_every == 0:\n",
    "            if verbose:\n",
    "                print('\\n')\n",
    "                print(\"{}th update: {}\".format(i,loss))\n",
    "                for p in lin_model.parameters():\n",
    "                    print(p)\n",
    "            sgd_losses.append(loss.log10().detach().numpy())\n",
    "    return sgd_losses"
   ]
  },
  {
   "cell_type": "code",
   "execution_count": 22,
   "metadata": {
    "scrolled": true
   },
   "outputs": [
    {
     "name": "stdout",
     "output_type": "stream",
     "text": [
      "\n",
      "\n",
      "0th update: 1.4710110425949097\n",
      "Parameter containing:\n",
      "tensor([[0.0571]], requires_grad=True)\n",
      "Parameter containing:\n",
      "tensor([-0.4011], requires_grad=True)\n",
      "\n",
      "\n",
      "100th update: 0.06372381001710892\n",
      "Parameter containing:\n",
      "tensor([[0.6204]], requires_grad=True)\n",
      "Parameter containing:\n",
      "tensor([0.4524], requires_grad=True)\n",
      "\n",
      "\n",
      "200th update: 0.011598316952586174\n",
      "Parameter containing:\n",
      "tensor([[0.8199]], requires_grad=True)\n",
      "Parameter containing:\n",
      "tensor([0.5260], requires_grad=True)\n",
      "\n",
      "\n",
      "300th update: 0.0028988132253289223\n",
      "Parameter containing:\n",
      "tensor([[0.9103]], requires_grad=True)\n",
      "Parameter containing:\n",
      "tensor([0.5193], requires_grad=True)\n",
      "\n",
      "\n",
      "400th update: 0.0007412142003886402\n",
      "Parameter containing:\n",
      "tensor([[0.9548]], requires_grad=True)\n",
      "Parameter containing:\n",
      "tensor([0.5105], requires_grad=True)\n",
      "\n",
      "\n",
      "500th update: 0.00018978469597641379\n",
      "Parameter containing:\n",
      "tensor([[0.9771]], requires_grad=True)\n",
      "Parameter containing:\n",
      "tensor([0.5054], requires_grad=True)\n",
      "\n",
      "\n",
      "600th update: 4.859614637098275e-05\n",
      "Parameter containing:\n",
      "tensor([[0.9884]], requires_grad=True)\n",
      "Parameter containing:\n",
      "tensor([0.5028], requires_grad=True)\n",
      "\n",
      "\n",
      "700th update: 1.2444091225916054e-05\n",
      "Parameter containing:\n",
      "tensor([[0.9942]], requires_grad=True)\n",
      "Parameter containing:\n",
      "tensor([0.5014], requires_grad=True)\n",
      "\n",
      "\n",
      "800th update: 3.186428557455656e-06\n",
      "Parameter containing:\n",
      "tensor([[0.9970]], requires_grad=True)\n",
      "Parameter containing:\n",
      "tensor([0.5007], requires_grad=True)\n",
      "\n",
      "\n",
      "900th update: 8.160130846590619e-07\n",
      "Parameter containing:\n",
      "tensor([[0.9985]], requires_grad=True)\n",
      "Parameter containing:\n",
      "tensor([0.5004], requires_grad=True)\n"
     ]
    }
   ],
   "source": [
    "_ = run_sgd()"
   ]
  },
  {
   "cell_type": "markdown",
   "metadata": {},
   "source": [
    "## 다른 Optimizer도 사용해볼까요?\n",
    "\n",
    "수업시간에 배웠던 Adam 으로 최적화를 하면 어떤결과가 나올까요?"
   ]
  },
  {
   "cell_type": "code",
   "execution_count": 23,
   "metadata": {},
   "outputs": [],
   "source": [
    "def run_adam(n_steps: int = 1000,\n",
    "             report_every: int = 100,\n",
    "             verbose=True):\n",
    "    \n",
    "    lin_model = nn.Linear(in_features=1, out_features=1)\n",
    "    opt = torch.optim.Adam(params=lin_model.parameters(), lr=0.01)\n",
    "    adam_losses = []\n",
    "\n",
    "    for i in range(n_steps):\n",
    "        ys_hat = lin_model(xs)\n",
    "        loss = criteria(ys_hat, ys)\n",
    "        opt.zero_grad()\n",
    "        loss.backward()\n",
    "        opt.step()\n",
    "\n",
    "        if i % report_every == 0:\n",
    "            if verbose:\n",
    "                print('\\n')\n",
    "                print(\"{}th update: {}\".format(i,loss))\n",
    "                for p in lin_model.parameters():\n",
    "                    print(p)\n",
    "            adam_losses.append(loss.log10().detach().numpy())\n",
    "    \n",
    "    \n",
    "    \n",
    "    return adam_losses"
   ]
  },
  {
   "cell_type": "code",
   "execution_count": 24,
   "metadata": {
    "scrolled": true
   },
   "outputs": [
    {
     "name": "stdout",
     "output_type": "stream",
     "text": [
      "\n",
      "\n",
      "0th update: 0.2918098568916321\n",
      "Parameter containing:\n",
      "tensor([[0.1470]], requires_grad=True)\n",
      "Parameter containing:\n",
      "tensor([0.4743], requires_grad=True)\n",
      "\n",
      "\n",
      "100th update: 0.006888078060001135\n",
      "Parameter containing:\n",
      "tensor([[0.8638]], requires_grad=True)\n",
      "Parameter containing:\n",
      "tensor([0.5227], requires_grad=True)\n",
      "\n",
      "\n",
      "200th update: 4.413836450112285e-06\n",
      "Parameter containing:\n",
      "tensor([[0.9966]], requires_grad=True)\n",
      "Parameter containing:\n",
      "tensor([0.5006], requires_grad=True)\n",
      "\n",
      "\n",
      "300th update: 7.088420822531916e-11\n",
      "Parameter containing:\n",
      "tensor([[1.0000]], requires_grad=True)\n",
      "Parameter containing:\n",
      "tensor([0.5000], requires_grad=True)\n",
      "\n",
      "\n",
      "400th update: 5.588122416107797e-15\n",
      "Parameter containing:\n",
      "tensor([[1.0000]], requires_grad=True)\n",
      "Parameter containing:\n",
      "tensor([0.5000], requires_grad=True)\n",
      "\n",
      "\n",
      "500th update: 5.588122416107797e-15\n",
      "Parameter containing:\n",
      "tensor([[1.0000]], requires_grad=True)\n",
      "Parameter containing:\n",
      "tensor([0.5000], requires_grad=True)\n",
      "\n",
      "\n",
      "600th update: 5.588122416107797e-15\n",
      "Parameter containing:\n",
      "tensor([[1.0000]], requires_grad=True)\n",
      "Parameter containing:\n",
      "tensor([0.5000], requires_grad=True)\n",
      "\n",
      "\n",
      "700th update: 5.588122416107797e-15\n",
      "Parameter containing:\n",
      "tensor([[1.0000]], requires_grad=True)\n",
      "Parameter containing:\n",
      "tensor([0.5000], requires_grad=True)\n",
      "\n",
      "\n",
      "800th update: 5.588122416107797e-15\n",
      "Parameter containing:\n",
      "tensor([[1.0000]], requires_grad=True)\n",
      "Parameter containing:\n",
      "tensor([0.5000], requires_grad=True)\n",
      "\n",
      "\n",
      "900th update: 5.588122416107797e-15\n",
      "Parameter containing:\n",
      "tensor([[1.0000]], requires_grad=True)\n",
      "Parameter containing:\n",
      "tensor([0.5000], requires_grad=True)\n"
     ]
    }
   ],
   "source": [
    "_ = run_adam()"
   ]
  },
  {
   "cell_type": "markdown",
   "metadata": {},
   "source": [
    "## 좀 더 상세하게 비교해볼까요?\n",
    "\n",
    "`pytorch`에서 `nn.Linear`를 비롯한 많은 모듈들은 특별한 경우가 아닌이상,\n",
    "모듈내에 파라미터가 임의의 값으로 __잘!__ 초기화 됩니다. \n",
    "\n",
    "> \"잘!\" 에 대해서는 수업에서 다루지 않았지만, 확실히 현대 딥러닝이 잘 작동하게 하는 중요한 요소중에 하나입니다. Parameter initialization 이라고 부르는 기법들이며, 대부분의 `pytorch` 모듈들은 각각의 모듈에 따라서 일반적으로 잘 작동하는것으로 알려져있는 방식으로 파라미터들이 초기화 되게 코딩되어 있습니다.\n",
    "\n",
    "그래서 매 번 모듈을 생성할때마다 파라미터의 초기값이 달라지게 됩니다. 이번에는 조금 공정한 비교를 위해서 위에서 했던 실험을 여러번 반복해서 평균적으로도 Adam이 좋은지 확인해볼까요?"
   ]
  },
  {
   "cell_type": "code",
   "execution_count": 25,
   "metadata": {},
   "outputs": [],
   "source": [
    "sgd_losses = [run_sgd(verbose=False) for _ in range(50)]\n",
    "sgd_losses = np.stack(sgd_losses)\n",
    "sgd_loss_mean = np.mean(sgd_losses, axis=0)\n",
    "sgd_loss_std = np.std(sgd_losses, axis=-0)"
   ]
  },
  {
   "cell_type": "code",
   "execution_count": 26,
   "metadata": {},
   "outputs": [],
   "source": [
    "adam_losses = [run_adam(verbose=False) for _ in range(50)]\n",
    "adam_losses = np.stack(adam_losses)\n",
    "adam_loss_mean = np.mean(adam_losses, axis=0)\n",
    "adam_loss_std = np.std(adam_losses, axis=-0)"
   ]
  },
  {
   "cell_type": "code",
   "execution_count": 27,
   "metadata": {},
   "outputs": [
    {
     "data": {
      "text/plain": [
       "<matplotlib.legend.Legend at 0x2dce7ba66a0>"
      ]
     },
     "execution_count": 27,
     "metadata": {},
     "output_type": "execute_result"
    },
    {
     "data": {
      "image/png": "[encoded data removed]",
      "text/plain": [
       "<Figure size 1000x500 with 1 Axes>"
      ]
     },
     "metadata": {},
     "output_type": "display_data"
    }
   ],
   "source": [
    "fig, ax = plt.subplots(1,1, figsize=(10,5))\n",
    "ax.grid()\n",
    "ax.fill_between(x=range(sgd_loss_mean.shape[0]),\n",
    "                y1=sgd_loss_mean + sgd_loss_std,\n",
    "                y2=sgd_loss_mean - sgd_loss_std,\n",
    "                alpha=0.3)\n",
    "ax.plot(sgd_loss_mean, label='SGD')\n",
    "ax.fill_between(x=range(adam_loss_mean.shape[0]),\n",
    "                y1=adam_loss_mean + adam_loss_std,\n",
    "                y2=adam_loss_mean - adam_loss_std,\n",
    "                alpha=0.3)\n",
    "ax.plot(adam_loss_mean, label='Adam')\n",
    "ax.legend()"
   ]
  }
 ],
 "metadata": {
  "kernelspec": {
   "display_name": "Python 3 (ipykernel)",
   "language": "python",
   "name": "python3"
  },
  "language_info": {
   "codemirror_mode": {
    "name": "ipython",
    "version": 3
   },
   "file_extension": ".py",
   "mimetype": "text/x-python",
   "name": "python",
   "nbconvert_exporter": "python",
   "pygments_lexer": "ipython3",
   "version": "3.9.16"
  }
 },
 "nbformat": 4,
 "nbformat_minor": 4
}
